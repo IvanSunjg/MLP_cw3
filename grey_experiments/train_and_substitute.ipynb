{
 "cells": [
  {
   "cell_type": "code",
   "execution_count": 1,
   "metadata": {},
   "outputs": [],
   "source": [
    "from model_train.generate_filters11 import Kernel as Kernel24\n",
    "from model_train.generate_filter32 import Kernel as Kernel32\n",
    "import numpy as np\n",
    "import matplotlib.pyplot as plt\n",
    "from PIL import Image\n",
    "import cv2\n",
    "import torch\n",
    "import torch.nn as nn\n",
    "import torchvision\n",
    "import torchvision.models as models\n",
    "from torchvision import transforms, datasets, utils"
   ]
  },
  {
   "cell_type": "markdown",
   "metadata": {},
   "source": [
    "## components"
   ]
  },
  {
   "cell_type": "code",
   "execution_count": 2,
   "metadata": {},
   "outputs": [],
   "source": [
    "class AlexNet(nn.Module):\n",
    "    def __init__(self, num_classes=1000, init_weights=False):   \n",
    "        super(AlexNet, self).__init__()\n",
    "        self.features = nn.Sequential(  \n",
    "            nn.Conv2d(3, 48, kernel_size=11, stride=4, padding=2),  # input[3, 224, 224]  output[48, 55, 55]\n",
    "            nn.ReLU(inplace=True), #inplace\n",
    "            nn.MaxPool2d(kernel_size=3, stride=2),                  # output[48, 27, 27]\n",
    "            nn.Conv2d(48, 128, kernel_size=5, padding=2),           # output[128, 27, 27]\n",
    "            nn.ReLU(inplace=True),\n",
    "            nn.MaxPool2d(kernel_size=3, stride=2),                  # output[128, 13, 13]\n",
    "            nn.Conv2d(128, 192, kernel_size=3, padding=1),          # output[192, 13, 13]\n",
    "            nn.ReLU(inplace=True),\n",
    "            nn.Conv2d(192, 192, kernel_size=3, padding=1),          # output[192, 13, 13]\n",
    "            nn.ReLU(inplace=True),\n",
    "            nn.Conv2d(192, 128, kernel_size=3, padding=1),          # output[128, 13, 13]\n",
    "            nn.ReLU(inplace=True),\n",
    "            nn.MaxPool2d(kernel_size=3, stride=2),                  # output[128, 6, 6]\n",
    "        )\n",
    "        self.classifier = nn.Sequential(\n",
    "            nn.Dropout(p=0.5),\n",
    "            nn.Linear(128 * 6 * 6, 2048),\n",
    "            nn.ReLU(inplace=True),\n",
    "            nn.Dropout(p=0.5),\n",
    "            nn.Linear(2048, 2048),\n",
    "            nn.ReLU(inplace=True),\n",
    "            nn.Linear(2048, num_classes),\n",
    "        )\n",
    "        if init_weights:\n",
    "            self._initialize_weights()\n",
    "\n",
    "    def forward(self, x):\n",
    "        x = self.features(x)\n",
    "        x = torch.flatten(x, start_dim=1)\n",
    "        x = self.classifier(x)\n",
    "        return x\n",
    "\n",
    "    def _initialize_weights(self):\n",
    "        for m in self.modules():\n",
    "            if isinstance(m, nn.Conv2d):\n",
    "                nn.init.kaiming_normal_(m.weight, mode='fan_out', nonlinearity='relu')\n",
    "                if m.bias is not None:\n",
    "                    nn.init.constant_(m.bias, 0)\n",
    "            elif isinstance(m, nn.Linear):\n",
    "                nn.init.normal_(m.weight, 0, 0.01)\n",
    "                nn.init.constant_(m.bias, 0)\n"
   ]
  },
  {
   "cell_type": "code",
   "execution_count": 3,
   "metadata": {},
   "outputs": [],
   "source": [
    "def test_model(net,test_loader):\n",
    "    acc = 0.0\n",
    "    test_acc = 0.0\n",
    "    net.eval()  \n",
    "    with torch.no_grad():\n",
    "        for test_data in test_loader:\n",
    "            test_images, test_labels = test_data\n",
    "            y_pred_prob = net(test_images.to(device))\n",
    "            y_pred = torch.max(y_pred_prob, dim=1)[1]\n",
    "            test_acc += torch.sum(y_pred==test_labels.to(device)).item()/len(test_labels)\n",
    "    acc = test_acc/len(test_loader)\n",
    "    return acc"
   ]
  },
  {
   "cell_type": "markdown",
   "metadata": {},
   "source": [
    "## data loder"
   ]
  },
  {
   "cell_type": "code",
   "execution_count": 4,
   "metadata": {},
   "outputs": [
    {
     "name": "stdout",
     "output_type": "stream",
     "text": [
      "cuda:0\n"
     ]
    }
   ],
   "source": [
    "#device : GPU or CPU\n",
    "device = torch.device(\"cuda:0\" if torch.cuda.is_available() else \"cpu\")\n",
    "print(device)\n",
    "\n",
    "# preparing data\n",
    "data_transform = {\n",
    "\"train\": transforms.Compose([transforms.RandomResizedCrop(224),\n",
    "                            transforms.RandomHorizontalFlip(),\n",
    "                            transforms.ToTensor(),\n",
    "                            transforms.Normalize((0.5, 0.5, 0.5), (0.5, 0.5, 0.5))]),\n",
    "\"val\": transforms.Compose([transforms.Resize((224, 224)),   # cannot 224, must (224, 224)\n",
    "                        transforms.ToTensor(),\n",
    "                        transforms.Normalize((0.5, 0.5, 0.5), (0.5, 0.5, 0.5))]),\n",
    "\"test\": transforms.Compose([transforms.Resize((224, 224)),   # cannot 224, must (224, 224)\n",
    "                            transforms.ToTensor(),\n",
    "                            transforms.Normalize((0.5, 0.5, 0.5), (0.5, 0.5, 0.5))]),\n",
    "                }\n",
    "\n",
    "batch_size = 8\n",
    "train_dataset = datasets.ImageFolder(root=\"../data/train\", transform=data_transform[\"train\"])\n",
    "train_loader = torch.utils.data.DataLoader(train_dataset, batch_size=batch_size, shuffle=True, num_workers=0)\n",
    "\n",
    "validate_dataset = datasets.ImageFolder(root=\"../data/val\", transform=data_transform[\"val\"])\n",
    "validate_loader = torch.utils.data.DataLoader(validate_dataset, batch_size=batch_size, shuffle=True, num_workers=0)\n",
    "\n",
    "test_dataset = datasets.ImageFolder(root=\"../data/test\", transform=data_transform[\"test\"])\n",
    "test_loader = torch.utils.data.DataLoader(test_dataset, batch_size=batch_size, shuffle=True, num_workers=0)\n",
    "    \n",
    "class_num = 90\n"
   ]
  },
  {
   "cell_type": "markdown",
   "metadata": {},
   "source": [
    "## model load"
   ]
  },
  {
   "cell_type": "code",
   "execution_count": 5,
   "metadata": {},
   "outputs": [
    {
     "name": "stdout",
     "output_type": "stream",
     "text": [
      "Test accuracy for original =  0.3628691983122363\n"
     ]
    }
   ],
   "source": [
    "model = AlexNet(num_classes=class_num, init_weights=False)\n",
    "save_path = \"params/AlexNet.pth\"\n",
    "model.load_state_dict(torch.load(save_path))\n",
    "model.to(device)\n",
    "model.eval()\n",
    "print('Test accuracy for original = ',test_model(model,test_loader))"
   ]
  },
  {
   "cell_type": "code",
   "execution_count": 6,
   "metadata": {},
   "outputs": [
    {
     "name": "stdout",
     "output_type": "stream",
     "text": [
      "Test accuracy for original =  0.5411392405063291\n"
     ]
    }
   ],
   "source": [
    "model2 = models.alexnet(pretrained=True)\n",
    "save_path = \"params/pre_trained_AlexNet.pth\"\n",
    "model2.load_state_dict(torch.load(save_path))\n",
    "model2.to(device)\n",
    "model2.eval()\n",
    "print('Test accuracy for original = ',test_model(model2,test_loader))"
   ]
  },
  {
   "cell_type": "markdown",
   "metadata": {},
   "source": [
    "## substitute params"
   ]
  },
  {
   "cell_type": "code",
   "execution_count": 7,
   "metadata": {},
   "outputs": [],
   "source": [
    "def rand_weight(k,seed=0):\n",
    "    #print(k)\n",
    "    np.random.seed(seed)\n",
    "    change_r = np.random.randint(2)\n",
    "    change_g = np.random.randint(2)\n",
    "    change_b = np.random.randint(2)\n",
    "    weight = np.zeros((3,11,11))\n",
    "    weight[0] = -k if change_r else k\n",
    "    weight[1] = -k if change_g else k\n",
    "    weight[2] = -k if change_b else k\n",
    "    return weight"
   ]
  },
  {
   "cell_type": "code",
   "execution_count": 8,
   "metadata": {},
   "outputs": [
    {
     "name": "stdout",
     "output_type": "stream",
     "text": [
      "torch.Size([48, 11, 11])\n"
     ]
    }
   ],
   "source": [
    "kernels = Kernel24()()\n",
    "kernels_inv = kernels * -1\n",
    "full_kernels = torch.vstack((kernels,kernels_inv))\n",
    "print(full_kernels.shape)"
   ]
  },
  {
   "cell_type": "code",
   "execution_count": 9,
   "metadata": {},
   "outputs": [
    {
     "name": "stdout",
     "output_type": "stream",
     "text": [
      "torch.float32\n",
      "torch.Size([48, 3, 11, 11])\n"
     ]
    }
   ],
   "source": [
    "weights0 = [rand_weight(k) for k in full_kernels]\n",
    "weights0 = np.array(weights0)\n",
    "weights0 = torch.tensor(weights0)\n",
    "weights0 = weights0.to(torch.float32)\n",
    "print(weights0.dtype)\n",
    "print(model.features[0].weight.shape)\n",
    "weights0 = nn.Parameter(weights0)\n",
    "model.features[0].weight = weights0"
   ]
  },
  {
   "cell_type": "code",
   "execution_count": 10,
   "metadata": {},
   "outputs": [
    {
     "name": "stdout",
     "output_type": "stream",
     "text": [
      "Test accuracy for substitute =  0.01740506329113924\n"
     ]
    }
   ],
   "source": [
    "model.to(device)\n",
    "model.eval()\n",
    "print('Test accuracy for substitute = ',test_model(model,test_loader))"
   ]
  },
  {
   "cell_type": "code",
   "execution_count": 11,
   "metadata": {},
   "outputs": [
    {
     "name": "stdout",
     "output_type": "stream",
     "text": [
      "torch.Size([64, 11, 11])\n",
      "torch.float32\n",
      "torch.Size([64, 3, 11, 11])\n",
      "Test accuracy for substitute =  0.011075949367088608\n"
     ]
    }
   ],
   "source": [
    "kernels = Kernel32()()\n",
    "kernels_inv = kernels * -1\n",
    "full_kernels = torch.vstack((kernels,kernels_inv))\n",
    "print(full_kernels.shape)\n",
    "weights0 = [rand_weight(k) for k in full_kernels]\n",
    "weights0 = np.array(weights0)\n",
    "weights0 = torch.tensor(weights0)\n",
    "weights0 = weights0.to(torch.float32)\n",
    "print(weights0.dtype)\n",
    "print(model2.features[0].weight.shape)\n",
    "weights0 = nn.Parameter(weights0)\n",
    "model2.features[0].weight = weights0\n",
    "model2.to(device)\n",
    "model2.eval()\n",
    "print('Test accuracy for substitute = ',test_model(model2,test_loader))"
   ]
  }
 ],
 "metadata": {
  "interpreter": {
   "hash": "15c3bc6012878d2940c8d6a98daa5cbdb92f528b073ae4ef6c805d4083f2a14f"
  },
  "kernelspec": {
   "display_name": "Python 3.9.7 ('mlp')",
   "language": "python",
   "name": "python3"
  },
  "language_info": {
   "codemirror_mode": {
    "name": "ipython",
    "version": 3
   },
   "file_extension": ".py",
   "mimetype": "text/x-python",
   "name": "python",
   "nbconvert_exporter": "python",
   "pygments_lexer": "ipython3",
   "version": "3.9.7"
  },
  "orig_nbformat": 4
 },
 "nbformat": 4,
 "nbformat_minor": 2
}
