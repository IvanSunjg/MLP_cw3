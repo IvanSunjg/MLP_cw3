{
 "cells": [
  {
   "cell_type": "code",
   "execution_count": 1,
   "metadata": {},
   "outputs": [],
   "source": [
    "import torch\n",
    "import torch.nn as nn\n",
    "from torchvision import transforms, datasets, utils\n",
    "import matplotlib.pyplot as plt\n",
    "from PIL import Image\n",
    "import numpy as np\n",
    "import torch.optim as optim\n",
    "from model import AlexNet\n",
    "import os\n",
    "import json\n",
    "import time\n",
    "#import cv2"
   ]
  },
  {
   "cell_type": "code",
   "execution_count": 2,
   "metadata": {},
   "outputs": [
    {
     "name": "stdout",
     "output_type": "stream",
     "text": [
      "cpu\n"
     ]
    }
   ],
   "source": [
    "#device : GPU or CPU\n",
    "device = torch.device(\"cuda:0\" if torch.cuda.is_available() else \"cpu\")\n",
    "print(device)"
   ]
  },
  {
   "cell_type": "code",
   "execution_count": 3,
   "metadata": {},
   "outputs": [],
   "source": [
    "data_transform = {\n",
    "    \"train\": transforms.Compose([transforms.RandomResizedCrop(224),\n",
    "                                 transforms.RandomHorizontalFlip(),\n",
    "                                 transforms.ToTensor(),\n",
    "                                 transforms.Normalize((0.5, 0.5, 0.5), (0.5, 0.5, 0.5))]),\n",
    "    \"val\": transforms.Compose([transforms.Resize((224, 224)),  # cannot 224, must (224, 224)\n",
    "                               transforms.ToTensor(),\n",
    "                               transforms.Normalize((0.5, 0.5, 0.5), (0.5, 0.5, 0.5))])}"
   ]
  },
  {
   "cell_type": "code",
   "execution_count": 4,
   "metadata": {},
   "outputs": [],
   "source": [
    "#data_root = os.path.abspath(os.path.join(os.getcwd(), \"../..\"))  # get data root path\n",
    "data_root = os.getcwd()\n",
    "image_path = data_root + \"/data/\"  # flower data set path\n",
    "train_dataset = datasets.ImageFolder(root=image_path + \"/train\",\n",
    "                                     transform=data_transform[\"train\"])\n",
    "train_num = len(train_dataset)"
   ]
  },
  {
   "cell_type": "code",
   "execution_count": 5,
   "metadata": {},
   "outputs": [],
   "source": [
    "cd_list = train_dataset.class_to_idx\n",
    "cla_dict = dict((val, key) for key, val in cd_list.items())\n",
    "# write dict into json file\n",
    "json_str = json.dumps(cla_dict, indent=4)\n",
    "with open('class_indices.json', 'w') as json_file:\n",
    "    json_file.write(json_str)"
   ]
  },
  {
   "cell_type": "code",
   "execution_count": 6,
   "metadata": {},
   "outputs": [
    {
     "name": "stdout",
     "output_type": "stream",
     "text": [
      "torch.Size([3, 224, 224]) <class 'torch.Tensor'>\n",
      "tensor(7) 7 <class 'torch.Tensor'>\n"
     ]
    }
   ],
   "source": [
    "batch_size = 8\n",
    "train_loader = torch.utils.data.DataLoader(train_dataset,\n",
    "                                           batch_size=batch_size, shuffle=True,\n",
    "                                           num_workers=0)\n",
    "\n",
    "validate_dataset = datasets.ImageFolder(root=image_path + \"/val\",\n",
    "                                        transform=data_transform[\"val\"])\n",
    "val_num = len(validate_dataset)\n",
    "validate_loader = torch.utils.data.DataLoader(validate_dataset,\n",
    "                                              batch_size=batch_size, shuffle=True,\n",
    "                                              num_workers=0)\n",
    "\n",
    "test_data_iter = iter(validate_loader)\n",
    "test_image, test_label = test_data_iter.next()\n",
    "print(test_image[0].size(),type(test_image[0]))\n",
    "print(test_label[0],test_label[0].item(),type(test_label[0]))"
   ]
  },
  {
   "cell_type": "code",
   "execution_count": 7,
   "metadata": {},
   "outputs": [],
   "source": [
    "net = AlexNet(num_classes=9, init_weights=False)\n",
    "\n",
    "net.to(device)\n",
    "\n",
    "loss_function = nn.CrossEntropyLoss()\n",
    "\n",
    "optimizer = optim.Adam(net.parameters(), lr=0.0002)\n",
    "\n",
    "save_path = './AlexNet.pth'\n",
    "\n",
    "best_acc = 0.0"
   ]
  },
  {
   "cell_type": "code",
   "execution_count": 8,
   "metadata": {},
   "outputs": [
    {
     "name": "stderr",
     "output_type": "stream",
     "text": [
      "/usr/local/lib/python3.9/site-packages/torch/nn/functional.py:718: UserWarning: Named tensors and all their associated APIs are an experimental feature and subject to change. Please do not use them for anything important until they are released as stable. (Triggered internally at  ../c10/core/TensorImpl.h:1156.)\n",
      "  return torch.max_pool2d(input, kernel_size, stride, padding, dilation, ceil_mode)\n"
     ]
    },
    {
     "name": "stdout",
     "output_type": "stream",
     "text": [
      "train loss: 100%[**************************************************->]1.599\n",
      "130.377352962\n",
      "[epoch 1] train_loss: 1.927  test_accuracy: 0.287\n",
      "train loss: 100%[**************************************************->]0.949\n",
      "123.96181333500002\n",
      "[epoch 2] train_loss: 1.623  test_accuracy: 0.356\n",
      "train loss: 100%[**************************************************->]1.696\n",
      "147.097728222\n",
      "[epoch 3] train_loss: 1.454  test_accuracy: 0.430\n",
      "train loss: 100%[**************************************************->]1.924\n",
      "173.21907639699998\n",
      "[epoch 4] train_loss: 1.317  test_accuracy: 0.450\n",
      "train loss: 100%[**************************************************->]1.926\n",
      "153.30521376800004\n",
      "[epoch 5] train_loss: 1.294  test_accuracy: 0.548\n",
      "train loss: 100%[**************************************************->]1.101\n",
      "155.61542334599994\n",
      "[epoch 6] train_loss: 1.208  test_accuracy: 0.559\n",
      "train loss: 100%[**************************************************->]1.158\n",
      "147.41282099199998\n",
      "[epoch 7] train_loss: 1.133  test_accuracy: 0.591\n",
      "train loss: 100%[**************************************************->]1.010\n",
      "155.85696628000005\n",
      "[epoch 8] train_loss: 1.094  test_accuracy: 0.594\n",
      "train loss: 100%[**************************************************->]1.522\n",
      "160.08814320300007\n",
      "[epoch 9] train_loss: 1.058  test_accuracy: 0.617\n",
      "train loss: 100%[**************************************************->]0.720\n",
      "154.36241850300007\n",
      "[epoch 10] train_loss: 1.049  test_accuracy: 0.628\n",
      "train loss: 100%[**************************************************->]0.548\n",
      "158.13211904000013\n",
      "[epoch 11] train_loss: 0.997  test_accuracy: 0.650\n",
      "train loss: 100%[**************************************************->]0.577\n",
      "164.09428585799992\n",
      "[epoch 12] train_loss: 0.967  test_accuracy: 0.619\n",
      "train loss: 100%[**************************************************->]0.625\n",
      "196.37048063099996\n",
      "[epoch 13] train_loss: 0.930  test_accuracy: 0.637\n",
      "train loss: 100%[**************************************************->]1.102\n",
      "168.21471299099994\n",
      "[epoch 14] train_loss: 0.891  test_accuracy: 0.704\n",
      "train loss: 100%[**************************************************->]1.337\n",
      "170.75402597599987\n",
      "[epoch 15] train_loss: 0.905  test_accuracy: 0.676\n",
      "train loss: 100%[**************************************************->]0.902\n",
      "169.3030455779999\n",
      "[epoch 16] train_loss: 0.854  test_accuracy: 0.661\n",
      "train loss: 100%[**************************************************->]0.422\n",
      "169.3204681530001\n",
      "[epoch 17] train_loss: 0.832  test_accuracy: 0.715\n",
      "train loss: 100%[**************************************************->]0.239\n",
      "180.42002573199989\n",
      "[epoch 18] train_loss: 0.809  test_accuracy: 0.702\n",
      "train loss: 100%[**************************************************->]0.645\n",
      "162.0185369769997\n",
      "[epoch 19] train_loss: 0.824  test_accuracy: 0.693\n",
      "train loss: 100%[**************************************************->]0.498\n",
      "152.58889952299978\n",
      "[epoch 20] train_loss: 0.774  test_accuracy: 0.715\n",
      "train loss: 100%[**************************************************->]0.955\n",
      "162.946386522\n",
      "[epoch 21] train_loss: 0.803  test_accuracy: 0.715\n",
      "train loss: 100%[**************************************************->]0.499\n",
      "170.30584430399995\n",
      "[epoch 22] train_loss: 0.742  test_accuracy: 0.704\n",
      "train loss: 100%[**************************************************->]0.854\n",
      "158.164452171\n",
      "[epoch 23] train_loss: 0.733  test_accuracy: 0.704\n",
      "train loss: 100%[**************************************************->]1.244\n",
      "149.729103054\n",
      "[epoch 24] train_loss: 0.741  test_accuracy: 0.744\n",
      "train loss: 100%[**************************************************->]0.429\n",
      "146.91053037100028\n",
      "[epoch 25] train_loss: 0.700  test_accuracy: 0.722\n",
      "train loss: 100%[**************************************************->]1.774\n",
      "143.38401572200019\n",
      "[epoch 26] train_loss: 0.739  test_accuracy: 0.761\n",
      "train loss: 100%[**************************************************->]0.598\n",
      "135.32392614899982\n",
      "[epoch 27] train_loss: 0.679  test_accuracy: 0.706\n",
      "train loss: 100%[**************************************************->]0.443\n",
      "138.32189124700017\n",
      "[epoch 28] train_loss: 0.671  test_accuracy: 0.763\n",
      "train loss: 100%[**************************************************->]0.925\n",
      "133.6427749760005\n",
      "[epoch 29] train_loss: 0.661  test_accuracy: 0.739\n",
      "train loss: 100%[**************************************************->]0.363\n",
      "139.88600843199947\n",
      "[epoch 30] train_loss: 0.672  test_accuracy: 0.678\n",
      "train loss: 100%[**************************************************->]0.641\n",
      "139.68620409800042\n",
      "[epoch 31] train_loss: 0.663  test_accuracy: 0.715\n",
      "train loss: 100%[**************************************************->]0.244\n",
      "141.79888526499963\n",
      "[epoch 32] train_loss: 0.677  test_accuracy: 0.748\n",
      "train loss: 100%[**************************************************->]0.591\n",
      "141.22747595700002\n",
      "[epoch 33] train_loss: 0.666  test_accuracy: 0.761\n",
      "train loss: 100%[**************************************************->]0.857\n",
      "139.53415497999958\n",
      "[epoch 34] train_loss: 0.626  test_accuracy: 0.774\n",
      "train loss: 100%[**************************************************->]1.164\n",
      "140.51750728499974\n",
      "[epoch 35] train_loss: 0.596  test_accuracy: 0.737\n",
      "train loss: 100%[**************************************************->]0.670\n",
      "137.69024451800033\n",
      "[epoch 36] train_loss: 0.580  test_accuracy: 0.754\n",
      "train loss: 100%[**************************************************->]0.048\n",
      "136.6312627059997\n",
      "[epoch 37] train_loss: 0.616  test_accuracy: 0.765\n",
      "train loss: 100%[**************************************************->]0.006\n",
      "138.63758823499938\n",
      "[epoch 38] train_loss: 0.601  test_accuracy: 0.791\n",
      "train loss: 100%[**************************************************->]0.377\n",
      "137.5560770660004\n",
      "[epoch 39] train_loss: 0.559  test_accuracy: 0.778\n",
      "train loss: 100%[**************************************************->]0.092\n",
      "136.8491084670004\n",
      "[epoch 40] train_loss: 0.564  test_accuracy: 0.781\n",
      "Finished Training\n"
     ]
    }
   ],
   "source": [
    "# a dictionary used to store all loss and accuracy\n",
    "stats = {\"train_loss\":[],\"train_acc\":[],\"val_acc\":[],\"val_loss\":[]}\n",
    "\n",
    "for epoch in range(40):\n",
    "    # train\n",
    "    net.train()\n",
    "    running_loss = 0.0\n",
    "    correct = 0\n",
    "    t1 = time.perf_counter()\n",
    "    for step, data in enumerate(train_loader, start=0):\n",
    "        images, labels = data\n",
    "        #print(labels.shape)\n",
    "        optimizer.zero_grad()\n",
    "        outputs = net(images.to(device))\n",
    "        loss = loss_function(outputs, labels.to(device))\n",
    "        loss.backward()\n",
    "        optimizer.step()\n",
    "\n",
    "        # print statistics\n",
    "        running_loss += loss.item()\n",
    "\n",
    "        # get the training accuracy\n",
    "        _, predicted = outputs.max(1)\n",
    "        correct += (predicted == labels.to(device)).sum().item()\n",
    "\n",
    "        # print train process\n",
    "        rate = (step + 1) / len(train_loader)\n",
    "        a = \"*\" * int(rate * 50)\n",
    "        b = \".\" * int((1 - rate) * 50)\n",
    "        print(\"\\rtrain loss: {:^3.0f}%[{}->{}]{:.3f}\".format(int(rate * 100), a, b, loss), end=\"\")\n",
    "    print()\n",
    "    print(time.perf_counter()-t1)\n",
    "\n",
    "    #calculate the training accuracy\n",
    "    train_accurate = correct / len(train_loader)\n",
    "\n",
    "    # validate\n",
    "    net.eval()  \n",
    "    acc = 0.0  # accumulate accurate number / epoch\n",
    "    val_loss = 0.0\n",
    "\n",
    "    with torch.no_grad():\n",
    "        for v_step,val_data in enumerate(validate_loader):\n",
    "            val_images, val_labels = val_data\n",
    "            outputs = net(val_images.to(device))\n",
    "            predict_y = torch.max(outputs, dim=1)[1]\n",
    "            acc += (predict_y == val_labels.to(device)).sum().item()\n",
    "            val_loss += loss_function(outputs, val_labels.to(device)).item()\n",
    "        val_accurate = acc / val_num\n",
    "        if val_accurate > best_acc:\n",
    "            best_acc = val_accurate\n",
    "            torch.save(net.state_dict(), save_path)\n",
    "        print('[epoch %d] train_loss: %.3f  test_accuracy: %.3f' %\n",
    "              (epoch + 1, running_loss / step, val_accurate))\n",
    "    \n",
    "    # save the status\n",
    "\n",
    "    stats[\"train_loss\"].append(running_loss / step)\n",
    "    stats[\"train_acc\"].append(train_accurate)\n",
    "    stats[\"val_acc\"].append(val_accurate)\n",
    "    stats[\"val_loss\"].append(val_loss / v_step)\n",
    "\n",
    "print('Finished Training')"
   ]
  },
  {
   "cell_type": "code",
   "execution_count": 14,
   "metadata": {},
   "outputs": [
    {
     "data": {
      "text/plain": [
       "[1.6948529411764706,\n",
       " 2.7095588235294117,\n",
       " 3.4411764705882355,\n",
       " 3.761029411764706,\n",
       " 4.0036764705882355,\n",
       " 4.268382352941177,\n",
       " 4.477941176470588,\n",
       " 4.761029411764706,\n",
       " 4.790441176470588,\n",
       " 4.772058823529412,\n",
       " 4.981617647058823,\n",
       " 5.158088235294118,\n",
       " 5.283088235294118,\n",
       " 5.319852941176471,\n",
       " 5.375,\n",
       " 5.474264705882353,\n",
       " 5.4963235294117645,\n",
       " 5.632352941176471,\n",
       " 5.713235294117647,\n",
       " 5.661764705882353,\n",
       " 5.610294117647059,\n",
       " 5.786764705882353,\n",
       " 5.963235294117647,\n",
       " 5.834558823529412,\n",
       " 5.963235294117647,\n",
       " 5.8713235294117645,\n",
       " 6.047794117647059,\n",
       " 6.022058823529412,\n",
       " 6.0661764705882355,\n",
       " 6.022058823529412,\n",
       " 6.110294117647059,\n",
       " 6.044117647058823,\n",
       " 6.0625,\n",
       " 6.117647058823529,\n",
       " 6.216911764705882,\n",
       " 6.3786764705882355,\n",
       " 6.268382352941177,\n",
       " 6.264705882352941,\n",
       " 6.323529411764706,\n",
       " 6.426470588235294]"
      ]
     },
     "execution_count": 14,
     "metadata": {},
     "output_type": "execute_result"
    }
   ],
   "source": [
    "stats[\"train_acc\"]"
   ]
  },
  {
   "cell_type": "code",
   "execution_count": 17,
   "metadata": {},
   "outputs": [],
   "source": [
    "def plot_figure(name, stats):\n",
    "  fig_1 = plt.figure(figsize=(8, 4))\n",
    "  ax_1 = fig_1.add_subplot(111)\n",
    "  for k in ['train_loss', 'val_loss']:\n",
    "    item = stats[k]\n",
    "    ax_1.plot(np.arange(1, len(item)+1), item, label='{}_{}'.format(name, k))\n",
    "\n",
    "  ax_1.legend(loc=0)\n",
    "  ax_1.set_ylabel('Loss')\n",
    "  ax_1.set_xlabel('Epoch number')\n",
    "\n",
    "  # Plot the change in the validation and training set accuracy over training.\n",
    "  fig_2 = plt.figure(figsize=(8, 4))\n",
    "  ax_2 = fig_2.add_subplot(111)\n",
    "\n",
    "  for k in ['train_acc', 'val_acc']:\n",
    "    item = stats[k]\n",
    "    if k == 'train_acc':\n",
    "      ax_2.plot(np.arange(1, len(item)+1), [i/8 for i in item], label='{}_{}'.format(name, k))\n",
    "    else:\n",
    "      ax_2.plot(np.arange(1, len(item)+1), item, label='{}_{}'.format(name, k))\n",
    "    \n",
    "\n",
    "\n",
    "  ax_2.legend(loc=0)\n",
    "  ax_2.set_ylabel('Accuracy')\n",
    "  ax_2.set_xlabel('Epoch number')\n",
    "\n",
    "  return fig_1, fig_2"
   ]
  },
  {
   "cell_type": "code",
   "execution_count": 18,
   "metadata": {},
   "outputs": [
    {
     "data": {
      "text/plain": [
       "(<Figure size 576x288 with 1 Axes>, <Figure size 576x288 with 1 Axes>)"
      ]
     },
     "execution_count": 18,
     "metadata": {},
     "output_type": "execute_result"
    },
    {
     "data": {
      "image/png": "[encoded data removed]",
      "text/plain": [
       "<Figure size 576x288 with 1 Axes>"
      ]
     },
     "metadata": {},
     "output_type": "display_data"
    },
    {
     "data": {
      "image/png": "[encoded data removed]",
      "text/plain": [
       "<Figure size 576x288 with 1 Axes>"
      ]
     },
     "metadata": {},
     "output_type": "display_data"
    }
   ],
   "source": [
    "%matplotlib inline\n",
    "plt.style.use('ggplot')\n",
    "plot_figure(\"AlexNet\",stats)"
   ]
  },
  {
   "cell_type": "code",
   "execution_count": null,
   "metadata": {},
   "outputs": [
    {
     "data": {
      "text/plain": [
       "AlexNet(\n",
       "  (features): Sequential(\n",
       "    (0): Conv2d(3, 48, kernel_size=(11, 11), stride=(4, 4), padding=(2, 2))\n",
       "    (1): ReLU(inplace=True)\n",
       "    (2): MaxPool2d(kernel_size=3, stride=2, padding=0, dilation=1, ceil_mode=False)\n",
       "    (3): Conv2d(48, 128, kernel_size=(5, 5), stride=(1, 1), padding=(2, 2))\n",
       "    (4): ReLU(inplace=True)\n",
       "    (5): MaxPool2d(kernel_size=3, stride=2, padding=0, dilation=1, ceil_mode=False)\n",
       "    (6): Conv2d(128, 192, kernel_size=(3, 3), stride=(1, 1), padding=(1, 1))\n",
       "    (7): ReLU(inplace=True)\n",
       "    (8): Conv2d(192, 192, kernel_size=(3, 3), stride=(1, 1), padding=(1, 1))\n",
       "    (9): ReLU(inplace=True)\n",
       "    (10): Conv2d(192, 128, kernel_size=(3, 3), stride=(1, 1), padding=(1, 1))\n",
       "    (11): ReLU(inplace=True)\n",
       "    (12): MaxPool2d(kernel_size=3, stride=2, padding=0, dilation=1, ceil_mode=False)\n",
       "  )\n",
       "  (classifier): Sequential(\n",
       "    (0): Dropout(p=0.5, inplace=False)\n",
       "    (1): Linear(in_features=4608, out_features=2048, bias=True)\n",
       "    (2): ReLU(inplace=True)\n",
       "    (3): Dropout(p=0.5, inplace=False)\n",
       "    (4): Linear(in_features=2048, out_features=2048, bias=True)\n",
       "    (5): ReLU(inplace=True)\n",
       "    (6): Linear(in_features=2048, out_features=9, bias=True)\n",
       "  )\n",
       ")"
      ]
     },
     "execution_count": 12,
     "metadata": {},
     "output_type": "execute_result"
    }
   ],
   "source": [
    "model = AlexNet(num_classes=9, init_weights=False)\n",
    "save_path = \"AlexNet0.6.pth\"\n",
    "model.load_state_dict(torch.load(save_path))\n",
    "model.eval()"
   ]
  },
  {
   "cell_type": "code",
   "execution_count": null,
   "metadata": {},
   "outputs": [],
   "source": [
    "\"\"\" with torch.no_grad():\n",
    "    for test_data in test_loader:\n",
    "        val_images, val_labels = val_data\n",
    "        outputs = net(val_images.to(device))\n",
    "        predict_y = torch.max(outputs, dim=1)[1]\n",
    "        acc += (predict_y == val_labels.to(device)).sum().item()\n",
    "    val_accurate = acc / val_num\n",
    "    if val_accurate > best_acc:\n",
    "        best_acc = val_accurate\n",
    "        torch.save(net.state_dict(), save_path)\n",
    "    print('[epoch %d] train_loss: %.3f  test_accuracy: %.3f' %\n",
    "            (epoch + 1, running_loss / step, val_accurate)) \"\"\""
   ]
  }
 ],
 "metadata": {
  "interpreter": {
   "hash": "aee8b7b246df8f9039afb4144a1f6fd8d2ca17a180786b69acc140d282b71a49"
  },
  "kernelspec": {
   "display_name": "Python 3.9.2 64-bit",
   "name": "python3"
  },
  "language_info": {
   "codemirror_mode": {
    "name": "ipython",
    "version": 3
   },
   "file_extension": ".py",
   "mimetype": "text/x-python",
   "name": "python",
   "nbconvert_exporter": "python",
   "pygments_lexer": "ipython3",
   "version": "3.9.2"
  },
  "orig_nbformat": 4
 },
 "nbformat": 4,
 "nbformat_minor": 2
}
